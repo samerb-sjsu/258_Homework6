{
  "nbformat": 4,
  "nbformat_minor": 0,
  "metadata": {
    "colab": {
      "name": "CMPE-258_HW6_PartA.ipynb",
      "provenance": []
    },
    "kernelspec": {
      "name": "python3",
      "display_name": "Python 3"
    },
    "language_info": {
      "name": "python"
    }
  },
  "cells": [
    {
      "cell_type": "markdown",
      "metadata": {
        "id": "IF9v1kHtS7d7"
      },
      "source": [
        "##Samer Baslan\n",
        "##CMPE-258: Deep Learning\n",
        "##Spring 2021, Vijay Eranti\n",
        "\n",
        "Resources used: https://github.com/iamtrask/Grokking-Deep-Learning/blob/master/Chapter13%20-%20Intro%20to%20Automatic%20Differentiation%20-%20Let's%20Build%20A%20Deep%20Learning%20Framework.ipynb"
      ]
    },
    {
      "cell_type": "markdown",
      "metadata": {
        "id": "s9t_puERNWcM"
      },
      "source": [
        "##Imports"
      ]
    },
    {
      "cell_type": "code",
      "metadata": {
        "id": "WXSUWUJWD-vy"
      },
      "source": [
        "import numpy as np\n",
        "import matplotlib.pyplot as plt\n",
        "\n",
        "from keras.datasets import mnist\n",
        "from keras.utils import np_utils\n",
        "\n",
        "from scipy.special import softmax"
      ],
      "execution_count": 23,
      "outputs": []
    },
    {
      "cell_type": "markdown",
      "metadata": {
        "id": "OzVhZtGSNTnr"
      },
      "source": [
        "##Load Data (MNIST Dataset)"
      ]
    },
    {
      "cell_type": "code",
      "metadata": {
        "colab": {
          "base_uri": "https://localhost:8080/"
        },
        "id": "-07cSX-kNO8t",
        "outputId": "127cfcbe-5bda-4a11-da17-a5176b5663d3"
      },
      "source": [
        "(x_train, y_train), (x_test, y_test) = mnist.load_data()\n",
        "x_train = x_train.reshape(x_train.shape[0], 28*28) / 255.\n",
        "x_test = x_test.reshape(x_test.shape[0], 28*28) / 255.\n",
        "y_train = np_utils.to_categorical(y_train)\n",
        "y_test = np_utils.to_categorical(y_test)"
      ],
      "execution_count": 24,
      "outputs": [
        {
          "output_type": "stream",
          "text": [
            "Downloading data from https://storage.googleapis.com/tensorflow/tf-keras-datasets/mnist.npz\n",
            "11493376/11490434 [==============================] - 0s 0us/step\n"
          ],
          "name": "stdout"
        }
      ]
    },
    {
      "cell_type": "markdown",
      "metadata": {
        "id": "I3HXZafCNdcA"
      },
      "source": [
        "## Tensor Class"
      ]
    },
    {
      "cell_type": "code",
      "metadata": {
        "id": "DH2dwZJRMORB"
      },
      "source": [
        "class Tensor(object):\n",
        "\n",
        "  def __init__(self, data, autograd=False, creators=None, creation_op=None, id=None):\n",
        "    self.data = np.array(data)\n",
        "    self.autograd = autograd\n",
        "    self.grad = None\n",
        "    if(id is None):\n",
        "      self.id = np.random.randint(0,100000)\n",
        "    else:\n",
        "        self.id = id\n",
        "\n",
        "    self.creators = creators\n",
        "    self.creation_op = creation_op\n",
        "    self.children = {}\n",
        "\n",
        "    if(creators is not None):\n",
        "            for c in creators:\n",
        "                if(self.id not in c.children):\n",
        "                    c.children[self.id] = 1\n",
        "                else:\n",
        "                    c.children[self.id] += 1\n",
        "\n",
        "  def all_children_grads_accounted_for(self):\n",
        "        for id,cnt in self.children.items():\n",
        "            if(cnt != 0):\n",
        "                return False\n",
        "        return True\n",
        "\n",
        "\n",
        "  def backward(self,grad=None, grad_origin=None):\n",
        "        if(self.autograd):\n",
        " \n",
        "            if(grad is None):\n",
        "                grad = Tensor(np.ones_like(self.data))\n",
        "\n",
        "            if(grad_origin is not None):\n",
        "                if(self.children[grad_origin.id] == 0):\n",
        "                    raise Exception(\"cannot backprop more than once\")\n",
        "                else:\n",
        "                    self.children[grad_origin.id] -= 1\n",
        "\n",
        "            if(self.grad is None):\n",
        "                self.grad = grad\n",
        "            else:\n",
        "                self.grad += grad\n",
        "            \n",
        "            assert grad.autograd == False\n",
        "            \n",
        "            if(self.creators is not None and \n",
        "               (self.all_children_grads_accounted_for() or \n",
        "                grad_origin is None)):\n",
        "\n",
        "                if(self.creation_op == \"add\"):\n",
        "                    self.creators[0].backward(self.grad, self)\n",
        "                    self.creators[1].backward(self.grad, self)\n",
        "                    \n",
        "                if(self.creation_op == \"sub\"):\n",
        "                    self.creators[0].backward(Tensor(self.grad.data), self)\n",
        "                    self.creators[1].backward(Tensor(self.grad.__neg__().data), self)\n",
        "\n",
        "                if(self.creation_op == \"mul\"):\n",
        "                    new = self.grad * self.creators[1]\n",
        "                    self.creators[0].backward(new , self)\n",
        "                    new = self.grad * self.creators[0]\n",
        "                    self.creators[1].backward(new, self)                    \n",
        "                    \n",
        "                if(self.creation_op == \"mm\"):\n",
        "                    c0 = self.creators[0]\n",
        "                    c1 = self.creators[1]\n",
        "                    new = self.grad.mm(c1.transpose())\n",
        "                    c0.backward(new)\n",
        "                    new = self.grad.transpose().mm(c0).transpose()\n",
        "                    c1.backward(new)\n",
        "                    \n",
        "                if(self.creation_op == \"transpose\"):\n",
        "                    self.creators[0].backward(self.grad.transpose())\n",
        "\n",
        "                if(\"sum\" in self.creation_op):\n",
        "                    dim = int(self.creation_op.split(\"_\")[1])\n",
        "                    self.creators[0].backward(self.grad.expand(dim,\n",
        "                                                               self.creators[0].data.shape[dim]))\n",
        "\n",
        "                if(\"expand\" in self.creation_op):\n",
        "                    dim = int(self.creation_op.split(\"_\")[1])\n",
        "                    self.creators[0].backward(self.grad.sum(dim))\n",
        "                    \n",
        "                if(self.creation_op == \"neg\"):\n",
        "                    self.creators[0].backward(self.grad.__neg__())\n",
        "                    \n",
        "                if(self.creation_op == \"sigmoid\"):\n",
        "                    ones = Tensor(np.ones_like(self.grad.data))\n",
        "                    self.creators[0].backward(self.grad * (self * (ones - self)))\n",
        "                \n",
        "                if(self.creation_op == \"tanh\"):\n",
        "                    ones = Tensor(np.ones_like(self.grad.data))\n",
        "                    self.creators[0].backward(self.grad * (ones - (self * self)))\n",
        "                \n",
        "                if(self.creation_op == \"index_select\"):\n",
        "                    new_grad = np.zeros_like(self.creators[0].data)\n",
        "                    indices_ = self.index_select_indices.data.flatten()\n",
        "                    grad_ = grad.data.reshape(len(indices_), -1)\n",
        "                    for i in range(len(indices_)):\n",
        "                        new_grad[indices_[i]] += grad_[i]\n",
        "                    self.creators[0].backward(Tensor(new_grad))\n",
        "\n",
        "\n",
        "  def __add__(self, other):\n",
        "        if(self.autograd and other.autograd):\n",
        "            return Tensor(self.data + other.data,\n",
        "                          autograd=True,\n",
        "                          creators=[self,other],\n",
        "                          creation_op=\"add\")\n",
        "        return Tensor(self.data + other.data)\n",
        "\n",
        "  def __neg__(self):\n",
        "        if(self.autograd):\n",
        "            return Tensor(self.data * -1,\n",
        "                          autograd=True,\n",
        "                          creators=[self],\n",
        "                          creation_op=\"neg\")\n",
        "        return Tensor(self.data * -1)\n",
        "    \n",
        "  def __sub__(self, other):\n",
        "        if(self.autograd and other.autograd):\n",
        "            return Tensor(self.data - other.data,\n",
        "                          autograd=True,\n",
        "                          creators=[self,other],\n",
        "                          creation_op=\"sub\")\n",
        "        return Tensor(self.data - other.data)\n",
        "    \n",
        "  def __mul__(self, other):\n",
        "        if(self.autograd and other.autograd):\n",
        "            return Tensor(self.data * other.data,\n",
        "                          autograd=True,\n",
        "                          creators=[self,other],\n",
        "                          creation_op=\"mul\")\n",
        "        return Tensor(self.data * other.data)    \n",
        "\n",
        "  def sum(self, dim):\n",
        "        if(self.autograd):\n",
        "            return Tensor(self.data.sum(dim),\n",
        "                          autograd=True,\n",
        "                          creators=[self],\n",
        "                          creation_op=\"sum_\"+str(dim))\n",
        "        return Tensor(self.data.sum(dim))\n",
        "    \n",
        "  def expand(self, dim,copies):\n",
        "\n",
        "        trans_cmd = list(range(0,len(self.data.shape)))\n",
        "        trans_cmd.insert(dim,len(self.data.shape))\n",
        "        new_data = self.data.repeat(copies).reshape(list(self.data.shape) + [copies]).transpose(trans_cmd)\n",
        "        \n",
        "        if(self.autograd):\n",
        "            return Tensor(new_data,\n",
        "                          autograd=True,\n",
        "                          creators=[self],\n",
        "                          creation_op=\"expand_\"+str(dim))\n",
        "        return Tensor(new_data)\n",
        "    \n",
        "  def transpose(self):\n",
        "        if(self.autograd):\n",
        "            return Tensor(self.data.transpose(),\n",
        "                          autograd=True,\n",
        "                          creators=[self],\n",
        "                          creation_op=\"transpose\")\n",
        "        \n",
        "        return Tensor(self.data.transpose())\n",
        "    \n",
        "  def mm(self, x):\n",
        "        if(self.autograd):\n",
        "            return Tensor(self.data.dot(x.data),\n",
        "                          autograd=True,\n",
        "                          creators=[self,x],\n",
        "                          creation_op=\"mm\")\n",
        "        return Tensor(self.data.dot(x.data))\n",
        "    \n",
        "  def sigmoid(self):\n",
        "        if(self.autograd):\n",
        "            return Tensor(1 / (1 + np.exp(-self.data)),\n",
        "                          autograd=True,\n",
        "                          creators=[self],\n",
        "                          creation_op=\"sigmoid\")\n",
        "        return Tensor(1 / (1 + np.exp(-self.data)))\n",
        "\n",
        "  def tanh(self):\n",
        "        if(self.autograd):\n",
        "            return Tensor(np.tanh(self.data),\n",
        "                          autograd=True,\n",
        "                          creators=[self],\n",
        "                          creation_op=\"tanh\")\n",
        "        return Tensor(np.tanh(self.data))\n",
        "    \n",
        "  def index_select(self, indices):\n",
        "\n",
        "        if(self.autograd):\n",
        "            new = Tensor(self.data[indices.data],\n",
        "                         autograd=True,\n",
        "                         creators=[self],\n",
        "                         creation_op=\"index_select\")\n",
        "            new.index_select_indices = indices\n",
        "            return new\n",
        "        return Tensor(self.data[indices.data])\n",
        "    \n",
        "  def __repr__(self):\n",
        "        return str(self.data.__repr__())\n",
        "    \n",
        "  def __str__(self):\n",
        "        return str(self.data.__str__())\n"
      ],
      "execution_count": 7,
      "outputs": []
    },
    {
      "cell_type": "code",
      "metadata": {
        "colab": {
          "base_uri": "https://localhost:8080/"
        },
        "id": "lYfk7hcIJQnC",
        "outputId": "fa8f8447-b0a6-4a26-e155-328b2acfb37e"
      },
      "source": [
        "x = Tensor(np.eye(5), autograd = True)\n",
        "x.index_select(Tensor([[1, 2, 3], [2, 3, 4]])).backward()\n",
        "print(x.grad)"
      ],
      "execution_count": 8,
      "outputs": [
        {
          "output_type": "stream",
          "text": [
            "[[0. 0. 0. 0. 0.]\n",
            " [1. 1. 1. 1. 1.]\n",
            " [2. 2. 2. 2. 2.]\n",
            " [2. 2. 2. 2. 2.]\n",
            " [1. 1. 1. 1. 1.]]\n"
          ],
          "name": "stdout"
        }
      ]
    },
    {
      "cell_type": "markdown",
      "metadata": {
        "id": "Iram3VR5Nl7t"
      },
      "source": [
        "##Layers"
      ]
    },
    {
      "cell_type": "code",
      "metadata": {
        "id": "cbfJdLHsMAVP"
      },
      "source": [
        "class Layer(object):\n",
        "\n",
        "    def __init__(self):\n",
        "      self.parameters = list()\n",
        "\n",
        "    def get_parameters(self):\n",
        "      return self.parameters"
      ],
      "execution_count": 10,
      "outputs": []
    },
    {
      "cell_type": "code",
      "metadata": {
        "id": "PdUBRujxNzDM"
      },
      "source": [
        "class Linear(Layer):\n",
        "\n",
        "    def __init__(self, n_inputs, n_outputs):\n",
        "      super().__init__()\n",
        "      W = np.random.randn(n_inputs, n_outputs) * np.sqrt(2.0 / (n_inputs))\n",
        "      self.weight = Tensor(W, autograd = True)\n",
        "      self.bias = Tensor(np.zeros(n_outputs), autograd = True)\n",
        "\n",
        "      self.parameters.append(self.weight)\n",
        "      self.parameters.append(self.bias)\n",
        "\n",
        "    def forward(self, input):\n",
        "      return input.mm(self.weight) + self.bias.expand(0, len(input.data))"
      ],
      "execution_count": 11,
      "outputs": []
    },
    {
      "cell_type": "code",
      "metadata": {
        "id": "9t_Rn_qyOM-d"
      },
      "source": [
        "class Sequential(Layer):\n",
        "    \n",
        "    def __init__(self, layers=list()):\n",
        "        super().__init__()\n",
        "        \n",
        "        self.layers = layers\n",
        "    \n",
        "    def add(self, layer):\n",
        "        self.layers.append(layer)\n",
        "        \n",
        "    def forward(self, input):\n",
        "        for layer in self.layers:\n",
        "            input = layer.forward(input)\n",
        "        return input\n",
        "    \n",
        "    def get_parameters(self):\n",
        "        params = list()\n",
        "        for l in self.layers:\n",
        "            params += l.get_parameters()\n",
        "        return params"
      ],
      "execution_count": 12,
      "outputs": []
    },
    {
      "cell_type": "markdown",
      "metadata": {
        "id": "bOUI6ukZOV9F"
      },
      "source": [
        "##Activations"
      ]
    },
    {
      "cell_type": "code",
      "metadata": {
        "id": "L08c__lyOP1K"
      },
      "source": [
        "class Tanh(Layer):\n",
        "    def __init__(self):\n",
        "        super().__init__()\n",
        "    \n",
        "    def forward(self, input):\n",
        "        return input.tanh()"
      ],
      "execution_count": 13,
      "outputs": []
    },
    {
      "cell_type": "code",
      "metadata": {
        "id": "kjY6AWqqOTf_"
      },
      "source": [
        "class Sigmoid(Layer):\n",
        "    def __init__(self):\n",
        "        super().__init__()\n",
        "    \n",
        "    def forward(self, input):\n",
        "        return input.sigmoid()"
      ],
      "execution_count": 14,
      "outputs": []
    },
    {
      "cell_type": "markdown",
      "metadata": {
        "id": "FX-tt45AOXUL"
      },
      "source": [
        "##MSE Loss"
      ]
    },
    {
      "cell_type": "code",
      "metadata": {
        "id": "V8loeO2sOVLG"
      },
      "source": [
        "class MSELoss(Layer):\n",
        "    \n",
        "    def __init__(self):\n",
        "        super().__init__()\n",
        "    \n",
        "    def forward(self, pred, target):\n",
        "        return ((pred - target)*(pred - target)).sum(0)"
      ],
      "execution_count": 15,
      "outputs": []
    },
    {
      "cell_type": "markdown",
      "metadata": {
        "id": "9f5Dz5JcOjGM"
      },
      "source": [
        "## Stochastic Gradient Descent"
      ]
    },
    {
      "cell_type": "code",
      "metadata": {
        "id": "7kV7wKiuOfoj"
      },
      "source": [
        "class SGD:\n",
        "    def __init__(self, parameters, alpha=0.1):\n",
        "        self.parameters = parameters\n",
        "        self.alpha = alpha\n",
        "\n",
        "    def zero(self):\n",
        "        for p in self.parameters:\n",
        "            p.grad.data *= 0\n",
        "\n",
        "    def step(self, zero=True):\n",
        "        for p in self.parameters:\n",
        "            p.data -= p.grad.data * self.alpha\n",
        "            if zero:\n",
        "                p.grad.data *= 0"
      ],
      "execution_count": 16,
      "outputs": []
    },
    {
      "cell_type": "markdown",
      "metadata": {
        "id": "pmzCn8ovOs4e"
      },
      "source": [
        "## Unit Testing"
      ]
    },
    {
      "cell_type": "code",
      "metadata": {
        "colab": {
          "base_uri": "https://localhost:8080/"
        },
        "id": "7NIm9TbZOiAX",
        "outputId": "fa1f090f-bb1f-445b-cebd-cd0f044c1fb7"
      },
      "source": [
        "a = Tensor([1,2,3,4,5], autograd=True)\n",
        "b = Tensor([2,2,2,2,2], autograd=True)\n",
        "c = Tensor([5,4,3,2,1], autograd=True)\n",
        "\n",
        "d = a + b\n",
        "e = b + c\n",
        "f = d + e\n",
        "\n",
        "f.backward(Tensor(np.array([1,1,1,1,1])))\n",
        "\n",
        "print(b.grad.data == np.array([2,2,2,2,2]))\n"
      ],
      "execution_count": 18,
      "outputs": [
        {
          "output_type": "stream",
          "text": [
            "[ True  True  True  True  True]\n"
          ],
          "name": "stdout"
        }
      ]
    },
    {
      "cell_type": "markdown",
      "metadata": {
        "id": "kNn-sLRzQXWj"
      },
      "source": [
        "## Model Definition"
      ]
    },
    {
      "cell_type": "code",
      "metadata": {
        "id": "5L2AxlmoQZWU"
      },
      "source": [
        "model = Sequential([\n",
        "    Linear(784, 200),\n",
        "    Tanh(),\n",
        "    Linear(200, 80),\n",
        "    Tanh(),\n",
        "    Linear(80, 10),\n",
        "    Sigmoid()\n",
        "])"
      ],
      "execution_count": 20,
      "outputs": []
    },
    {
      "cell_type": "markdown",
      "metadata": {
        "id": "B_WLw61zO8PA"
      },
      "source": [
        "##Train"
      ]
    },
    {
      "cell_type": "code",
      "metadata": {
        "id": "2Xbq4XYcQv_5"
      },
      "source": [
        "def mini_batch(x, y):\n",
        "  x, y = Tensor(x, autograd = True), Tensor(y, autograd = True)\n",
        "  ypred = model.forward(x)\n",
        "  loss = criterion.forward(ypred, y)\n",
        "  loss.backward()\n",
        "  optimizer.step()\n",
        "  return model, loss"
      ],
      "execution_count": 21,
      "outputs": []
    },
    {
      "cell_type": "code",
      "metadata": {
        "id": "mw9RC_lzOwjX"
      },
      "source": [
        "x_train = x_train[:1000]\n",
        "y_train = y_train[:1000]\n",
        "x_test = x_test[:100]\n",
        "y_test = y_test[:100]\n",
        "\n",
        "input_dim = x_train.shape[1]\n",
        "num_classes = y_test.shape[1]"
      ],
      "execution_count": 25,
      "outputs": []
    },
    {
      "cell_type": "code",
      "metadata": {
        "id": "9x8Btz8dSoPP"
      },
      "source": [
        "data = Tensor(x_train, autograd=True)\n",
        "target = Tensor(y_train, autograd=True)"
      ],
      "execution_count": 27,
      "outputs": []
    },
    {
      "cell_type": "code",
      "metadata": {
        "colab": {
          "base_uri": "https://localhost:8080/"
        },
        "id": "v6SdnQq6RC2m",
        "outputId": "fbe49447-35e5-42b3-eaf4-8ed610c4f425"
      },
      "source": [
        "optimizer = SGD(parameters = model.get_parameters(), alpha = 0.001)\n",
        "criterion = MSELoss()\n",
        "\n",
        "BATCH_SIZE = 256\n",
        "EPOCHS = 100\n",
        "\n",
        "for epoch in range(EPOCHS):\n",
        "  for i in range(int(len(data.data) / BATCH_SIZE)):\n",
        "    batch_start, batch_end = ((i * BATCH_SIZE), ((i + 1)*BATCH_SIZE))\n",
        "    model, loss = mini_batch(data.data[batch_start:batch_end], target.data[batch_start:batch_end])\n",
        "\n",
        "  pred = model.forward(data)\n",
        "  train_correct = (np.argmax(target.data, axis = 1) == np.argmax(pred.data, axis = 1)).mean()\n",
        "  print(\"Train Accuracy:\", train_correct)\n"
      ],
      "execution_count": 32,
      "outputs": [
        {
          "output_type": "stream",
          "text": [
            "Train Accuracy: 0.33\n",
            "Train Accuracy: 0.459\n",
            "Train Accuracy: 0.516\n",
            "Train Accuracy: 0.582\n",
            "Train Accuracy: 0.647\n",
            "Train Accuracy: 0.69\n",
            "Train Accuracy: 0.728\n",
            "Train Accuracy: 0.755\n",
            "Train Accuracy: 0.78\n",
            "Train Accuracy: 0.795\n",
            "Train Accuracy: 0.81\n",
            "Train Accuracy: 0.822\n",
            "Train Accuracy: 0.832\n",
            "Train Accuracy: 0.84\n",
            "Train Accuracy: 0.844\n",
            "Train Accuracy: 0.857\n",
            "Train Accuracy: 0.861\n",
            "Train Accuracy: 0.866\n",
            "Train Accuracy: 0.872\n",
            "Train Accuracy: 0.875\n",
            "Train Accuracy: 0.879\n",
            "Train Accuracy: 0.886\n",
            "Train Accuracy: 0.891\n",
            "Train Accuracy: 0.895\n",
            "Train Accuracy: 0.898\n",
            "Train Accuracy: 0.898\n",
            "Train Accuracy: 0.898\n",
            "Train Accuracy: 0.901\n",
            "Train Accuracy: 0.903\n",
            "Train Accuracy: 0.907\n",
            "Train Accuracy: 0.907\n",
            "Train Accuracy: 0.91\n",
            "Train Accuracy: 0.913\n",
            "Train Accuracy: 0.915\n",
            "Train Accuracy: 0.916\n",
            "Train Accuracy: 0.915\n",
            "Train Accuracy: 0.917\n",
            "Train Accuracy: 0.918\n",
            "Train Accuracy: 0.921\n",
            "Train Accuracy: 0.921\n",
            "Train Accuracy: 0.924\n",
            "Train Accuracy: 0.925\n",
            "Train Accuracy: 0.926\n",
            "Train Accuracy: 0.928\n",
            "Train Accuracy: 0.93\n",
            "Train Accuracy: 0.932\n",
            "Train Accuracy: 0.932\n",
            "Train Accuracy: 0.932\n",
            "Train Accuracy: 0.932\n",
            "Train Accuracy: 0.932\n",
            "Train Accuracy: 0.932\n",
            "Train Accuracy: 0.936\n",
            "Train Accuracy: 0.938\n",
            "Train Accuracy: 0.939\n",
            "Train Accuracy: 0.941\n",
            "Train Accuracy: 0.94\n",
            "Train Accuracy: 0.941\n",
            "Train Accuracy: 0.941\n",
            "Train Accuracy: 0.943\n",
            "Train Accuracy: 0.943\n",
            "Train Accuracy: 0.945\n",
            "Train Accuracy: 0.945\n",
            "Train Accuracy: 0.945\n",
            "Train Accuracy: 0.944\n",
            "Train Accuracy: 0.944\n",
            "Train Accuracy: 0.944\n",
            "Train Accuracy: 0.945\n",
            "Train Accuracy: 0.947\n",
            "Train Accuracy: 0.947\n",
            "Train Accuracy: 0.947\n",
            "Train Accuracy: 0.947\n",
            "Train Accuracy: 0.947\n",
            "Train Accuracy: 0.947\n",
            "Train Accuracy: 0.949\n",
            "Train Accuracy: 0.95\n",
            "Train Accuracy: 0.951\n",
            "Train Accuracy: 0.951\n",
            "Train Accuracy: 0.951\n",
            "Train Accuracy: 0.951\n",
            "Train Accuracy: 0.952\n",
            "Train Accuracy: 0.951\n",
            "Train Accuracy: 0.952\n",
            "Train Accuracy: 0.952\n",
            "Train Accuracy: 0.952\n",
            "Train Accuracy: 0.953\n",
            "Train Accuracy: 0.953\n",
            "Train Accuracy: 0.955\n",
            "Train Accuracy: 0.955\n",
            "Train Accuracy: 0.955\n",
            "Train Accuracy: 0.954\n",
            "Train Accuracy: 0.954\n",
            "Train Accuracy: 0.954\n",
            "Train Accuracy: 0.954\n",
            "Train Accuracy: 0.954\n",
            "Train Accuracy: 0.954\n",
            "Train Accuracy: 0.954\n",
            "Train Accuracy: 0.954\n",
            "Train Accuracy: 0.954\n",
            "Train Accuracy: 0.954\n",
            "Train Accuracy: 0.954\n"
          ],
          "name": "stdout"
        }
      ]
    },
    {
      "cell_type": "code",
      "metadata": {
        "id": "8lBH3F59SkWC"
      },
      "source": [
        ""
      ],
      "execution_count": null,
      "outputs": []
    }
  ]
}