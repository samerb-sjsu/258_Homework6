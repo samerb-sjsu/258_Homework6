{
  "nbformat": 4,
  "nbformat_minor": 0,
  "metadata": {
    "colab": {
      "name": "CMPE-258_HW6_PartB_PyTorch.ipynb",
      "provenance": []
    },
    "kernelspec": {
      "name": "python3",
      "display_name": "Python 3"
    },
    "language_info": {
      "name": "python"
    },
    "accelerator": "GPU"
  },
  "cells": [
    {
      "cell_type": "markdown",
      "metadata": {
        "id": "oxYAtSfAeOYH"
      },
      "source": [
        "##Samer Baslan\n",
        "##CMPE-258: Deep Learning\n",
        "##Spring 2021, Vijay Eranti\n",
        "##HW6, Part B: CNN Based Image Classifier using PyTorch and Fashion MNIST data\n",
        "\n",
        "\n",
        "Resource: PyTorch Tutorial Basic by Michael Li https://colab.research.google.com/drive/1YWzAjpAnLI23irBQtLvDTYT1A94uCloM"
      ]
    },
    {
      "cell_type": "markdown",
      "metadata": {
        "id": "CfErE4qtem7m"
      },
      "source": [
        "##Imports"
      ]
    },
    {
      "cell_type": "code",
      "metadata": {
        "colab": {
          "base_uri": "https://localhost:8080/"
        },
        "id": "mnjAyN6OfHY9",
        "outputId": "9a68da85-ae33-43f5-ec73-93f602be47ca"
      },
      "source": [
        "!pip install scikit-plot"
      ],
      "execution_count": 1,
      "outputs": [
        {
          "output_type": "stream",
          "text": [
            "Requirement already satisfied: scikit-plot in /usr/local/lib/python3.7/dist-packages (0.3.7)\n",
            "Requirement already satisfied: scipy>=0.9 in /usr/local/lib/python3.7/dist-packages (from scikit-plot) (1.4.1)\n",
            "Requirement already satisfied: joblib>=0.10 in /usr/local/lib/python3.7/dist-packages (from scikit-plot) (1.0.1)\n",
            "Requirement already satisfied: scikit-learn>=0.18 in /usr/local/lib/python3.7/dist-packages (from scikit-plot) (0.22.2.post1)\n",
            "Requirement already satisfied: matplotlib>=1.4.0 in /usr/local/lib/python3.7/dist-packages (from scikit-plot) (3.2.2)\n",
            "Requirement already satisfied: numpy>=1.13.3 in /usr/local/lib/python3.7/dist-packages (from scipy>=0.9->scikit-plot) (1.19.5)\n",
            "Requirement already satisfied: cycler>=0.10 in /usr/local/lib/python3.7/dist-packages (from matplotlib>=1.4.0->scikit-plot) (0.10.0)\n",
            "Requirement already satisfied: kiwisolver>=1.0.1 in /usr/local/lib/python3.7/dist-packages (from matplotlib>=1.4.0->scikit-plot) (1.3.1)\n",
            "Requirement already satisfied: pyparsing!=2.0.4,!=2.1.2,!=2.1.6,>=2.0.1 in /usr/local/lib/python3.7/dist-packages (from matplotlib>=1.4.0->scikit-plot) (2.4.7)\n",
            "Requirement already satisfied: python-dateutil>=2.1 in /usr/local/lib/python3.7/dist-packages (from matplotlib>=1.4.0->scikit-plot) (2.8.1)\n",
            "Requirement already satisfied: six in /usr/local/lib/python3.7/dist-packages (from cycler>=0.10->matplotlib>=1.4.0->scikit-plot) (1.15.0)\n"
          ],
          "name": "stdout"
        }
      ]
    },
    {
      "cell_type": "code",
      "metadata": {
        "colab": {
          "base_uri": "https://localhost:8080/"
        },
        "id": "jXQdG1dleLCo",
        "outputId": "2fe475b1-4a9e-4a31-f8e1-f2964fa4b3ce"
      },
      "source": [
        "import matplotlib.pyplot as plt\n",
        "\n",
        "from sklearn.metrics import confusion_matrix\n",
        "import scikitplot as skplt\n",
        "\n",
        "import torch\n",
        "import torch.nn as nn\n",
        "import torch.nn.functional as F\n",
        "import torch.optim as optim\n",
        "from torch.utils.tensorboard import SummaryWriter\n",
        "\n",
        "import torchvision\n",
        "import torchvision.transforms as transforms\n",
        "\n",
        "import time\n",
        "import pandas as pd\n",
        "import json\n",
        "from IPython.display import clear_output\n",
        "\n",
        "from collections  import OrderedDict\n",
        "from collections import namedtuple\n",
        "from itertools import product\n",
        "\n",
        "\n",
        "torch.set_printoptions(linewidth=120)\n",
        "torch.set_grad_enabled(True)"
      ],
      "execution_count": 2,
      "outputs": [
        {
          "output_type": "execute_result",
          "data": {
            "text/plain": [
              "<torch.autograd.grad_mode.set_grad_enabled at 0x7febc33913d0>"
            ]
          },
          "metadata": {
            "tags": []
          },
          "execution_count": 2
        }
      ]
    },
    {
      "cell_type": "markdown",
      "metadata": {
        "id": "A3ipJIT3en0s"
      },
      "source": [
        "##Load Data"
      ]
    },
    {
      "cell_type": "code",
      "metadata": {
        "id": "1ibuy4T_ekcc"
      },
      "source": [
        "train_set = torchvision.datasets.FashionMNIST(\n",
        "    root = './data/FashionMNIST',\n",
        "    train = True,\n",
        "    download = True,\n",
        "    transform = transforms.Compose([\n",
        "        transforms.ToTensor()                                 \n",
        "    ])\n",
        ")"
      ],
      "execution_count": 3,
      "outputs": []
    },
    {
      "cell_type": "code",
      "metadata": {
        "id": "9yV-FO5deois"
      },
      "source": [
        "# Build the neural network on top of nn.Module\n",
        "class Network(nn.Module):\n",
        "  def __init__(self):\n",
        "    super().__init__()\n",
        "\n",
        "    # Define Layers\n",
        "    self.conv1 = nn.Conv2d(in_channels=1, out_channels=6, kernel_size=5)\n",
        "    self.conv2 = nn.Conv2d(in_channels=6, out_channels=12, kernel_size=5)\n",
        "\n",
        "    self.fc1 = nn.Linear(in_features=12*4*4, out_features=120)\n",
        "    self.fc2 = nn.Linear(in_features=120, out_features=60)\n",
        "    self.out = nn.Linear(in_features=60, out_features=10)\n",
        "\n",
        "\n",
        "  def forward(self, t):\n",
        "    # conv 1\n",
        "    t = self.conv1(t)\n",
        "    t = F.relu(t)\n",
        "    t = F.max_pool2d(t, kernel_size=2, stride=2)\n",
        "\n",
        "    # conv 2\n",
        "    t = self.conv2(t)\n",
        "    t = F.relu(t)\n",
        "    t = F.max_pool2d(t, kernel_size=2, stride=2)\n",
        "\n",
        "    # fc1\n",
        "    t = t.reshape(-1, 12*4*4)\n",
        "    t = self.fc1(t)\n",
        "    t = F.relu(t)\n",
        "\n",
        "    # fc2\n",
        "    t = self.fc2(t)\n",
        "    t = F.relu(t)\n",
        "\n",
        "    # output\n",
        "    t = self.out(t)\n",
        "    # No need for softmax as we will use cross entropy for activation.\n",
        "\n",
        "    return t"
      ],
      "execution_count": 4,
      "outputs": []
    },
    {
      "cell_type": "code",
      "metadata": {
        "id": "1Bv6r2Zte1xS"
      },
      "source": [
        "def get_num_correct(preds, labels):\n",
        "  return preds.argmax(dim=1).eq(labels).sum().item()"
      ],
      "execution_count": 5,
      "outputs": []
    },
    {
      "cell_type": "code",
      "metadata": {
        "id": "T7qhwS0Le2xv"
      },
      "source": [
        "# Read in the hyper-parameters and return a Run namedtuple containing all the combinations of hyper-parameters\n",
        "\n",
        "class RunBuilder():\n",
        "  @staticmethod\n",
        "  def get_runs(params):\n",
        "\n",
        "    Run = namedtuple('Run', params.keys())\n",
        "\n",
        "    runs = []\n",
        "    for v in product(*params.values()):\n",
        "      runs.append(Run(*v))\n",
        "    \n",
        "    return runs"
      ],
      "execution_count": 6,
      "outputs": []
    },
    {
      "cell_type": "code",
      "metadata": {
        "id": "rX0oLmbpe3_y"
      },
      "source": [
        "class RunManager():\n",
        "  def __init__(self):\n",
        "\n",
        "    # track every epoch count, loss, accuracy, time\n",
        "    self.epoch_count = 0\n",
        "    self.epoch_loss = 0\n",
        "    self.epoch_num_correct = 0\n",
        "    self.epoch_start_time = None\n",
        "\n",
        "    # track every run count, run data, hyper-params used, time\n",
        "    self.run_params = None\n",
        "    self.run_count = 0\n",
        "    self.run_data = []\n",
        "    self.run_start_time = None\n",
        "\n",
        "    # record model, loader and TensorBoard \n",
        "    self.network = None\n",
        "    self.loader = None\n",
        "    self.tb = None\n",
        "\n",
        "  # record the count, hyper-param, model, loader of each run\n",
        "  # record sample images and network graph to TensorBoard  \n",
        "  def begin_run(self, run, network, loader):\n",
        "\n",
        "    self.run_start_time = time.time()\n",
        "\n",
        "    self.run_params = run\n",
        "    self.run_count += 1\n",
        "\n",
        "    self.network = network\n",
        "    self.loader = loader\n",
        "    self.tb = SummaryWriter(comment=f'-{run}')\n",
        "\n",
        "    images, labels = next(iter(self.loader))\n",
        "    grid = torchvision.utils.make_grid(images)\n",
        "\n",
        "    self.tb.add_image('images', grid)\n",
        "    self.tb.add_graph(self.network, images)\n",
        "\n",
        "  # when run ends, close TensorBoard, zero epoch count\n",
        "  def end_run(self):\n",
        "    self.tb.close()\n",
        "    self.epoch_count = 0\n",
        "\n",
        "  # zero epoch count, loss, accuracy, \n",
        "  def begin_epoch(self):\n",
        "    self.epoch_start_time = time.time()\n",
        "\n",
        "    self.epoch_count += 1\n",
        "    self.epoch_loss = 0\n",
        "    self.epoch_num_correct = 0\n",
        "\n",
        "\n",
        "  def end_epoch(self):\n",
        "    # calculate epoch duration and run duration\n",
        "    epoch_duration = time.time() - self.epoch_start_time\n",
        "    run_duration = time.time() - self.run_start_time\n",
        "\n",
        "    # record epoch loss and accuracy\n",
        "    loss = self.epoch_loss / len(self.loader.dataset)\n",
        "    accuracy = self.epoch_num_correct / len(self.loader.dataset)\n",
        "\n",
        "    # Record epoch loss and accuracy to TensorBoard \n",
        "    self.tb.add_scalar('Loss', loss, self.epoch_count)\n",
        "    self.tb.add_scalar('Accuracy', accuracy, self.epoch_count)\n",
        "\n",
        "    # Record params to TensorBoard\n",
        "    for name, param in self.network.named_parameters():\n",
        "      self.tb.add_histogram(name, param, self.epoch_count)\n",
        "      self.tb.add_histogram(f'{name}.grad', param.grad, self.epoch_count)\n",
        "    \n",
        "    # Write into 'results' (OrderedDict) for all run related data\n",
        "    results = OrderedDict()\n",
        "    results[\"run\"] = self.run_count\n",
        "    results[\"epoch\"] = self.epoch_count\n",
        "    results[\"loss\"] = loss\n",
        "    results[\"accuracy\"] = accuracy\n",
        "    results[\"epoch duration\"] = epoch_duration\n",
        "    results[\"run duration\"] = run_duration\n",
        "\n",
        "    # Record hyper-params into 'results'\n",
        "    for k,v in self.run_params._asdict().items(): results[k] = v\n",
        "    self.run_data.append(results)\n",
        "    df = pd.DataFrame.from_dict(self.run_data, orient = 'columns')\n",
        "\n",
        "    # display epoch information and show progress\n",
        "    clear_output(wait = True)\n",
        "    display(df)\n",
        "\n",
        "  # accumulate loss of batch into entire epoch loss\n",
        "  def track_loss(self, loss):\n",
        "    # multiply batch size so variety of batch sizes can be compared\n",
        "    self.epoch_loss += loss.item() * self.loader.batch_size\n",
        "\n",
        "  # accumulate number of corrects of batch into entire epoch num_correct\n",
        "  def track_num_correct(self, preds, labels):\n",
        "    self.epoch_num_correct += self._get_num_correct(preds, labels)\n",
        "\n",
        "  @torch.no_grad()\n",
        "  def _get_num_correct(self, preds, labels):\n",
        "    return preds.argmax(dim=1).eq(labels).sum().item()"
      ],
      "execution_count": 7,
      "outputs": []
    },
    {
      "cell_type": "code",
      "metadata": {
        "id": "uYogp8ige9jR"
      },
      "source": [
        "# put all hyper params into a OrderedDict, easily expandable\n",
        "params = OrderedDict(\n",
        "    lr = [.01, .001],\n",
        "    batch_size = [100, 1000],\n",
        "    shuffle = [False]\n",
        ")\n",
        "epochs = 5"
      ],
      "execution_count": 8,
      "outputs": []
    },
    {
      "cell_type": "code",
      "metadata": {
        "colab": {
          "base_uri": "https://localhost:8080/",
          "height": 669
        },
        "id": "_PF1bsY1e_hN",
        "outputId": "39bed72a-2be9-4592-e358-9b697b82251e"
      },
      "source": [
        "m = RunManager()\n",
        "\n",
        "# get all runs from params using RunBuilder class\n",
        "for run in RunBuilder.get_runs(params):\n",
        "\n",
        "    # if params changes, following line of code should reflect the changes too\n",
        "    network = Network()\n",
        "    loader = torch.utils.data.DataLoader(train_set, batch_size = run.batch_size)\n",
        "    optimizer = optim.Adam(network.parameters(), lr = run.lr)\n",
        "\n",
        "    m.begin_run(run, network, loader)\n",
        "    for epoch in range(epochs):\n",
        "      \n",
        "      m.begin_epoch()\n",
        "      for batch in loader:\n",
        "        \n",
        "        images = batch[0]\n",
        "        labels = batch[1]\n",
        "        preds = network(images)\n",
        "        loss = F.cross_entropy(preds, labels)\n",
        "\n",
        "        optimizer.zero_grad()\n",
        "        loss.backward()\n",
        "        optimizer.step()\n",
        "\n",
        "        m.track_loss(loss)\n",
        "        m.track_num_correct(preds, labels)\n",
        "\n",
        "      m.end_epoch()\n",
        "    m.end_run()\n"
      ],
      "execution_count": 9,
      "outputs": [
        {
          "output_type": "display_data",
          "data": {
            "text/html": [
              "<div>\n",
              "<style scoped>\n",
              "    .dataframe tbody tr th:only-of-type {\n",
              "        vertical-align: middle;\n",
              "    }\n",
              "\n",
              "    .dataframe tbody tr th {\n",
              "        vertical-align: top;\n",
              "    }\n",
              "\n",
              "    .dataframe thead th {\n",
              "        text-align: right;\n",
              "    }\n",
              "</style>\n",
              "<table border=\"1\" class=\"dataframe\">\n",
              "  <thead>\n",
              "    <tr style=\"text-align: right;\">\n",
              "      <th></th>\n",
              "      <th>run</th>\n",
              "      <th>epoch</th>\n",
              "      <th>loss</th>\n",
              "      <th>accuracy</th>\n",
              "      <th>epoch duration</th>\n",
              "      <th>run duration</th>\n",
              "      <th>lr</th>\n",
              "      <th>batch_size</th>\n",
              "      <th>shuffle</th>\n",
              "    </tr>\n",
              "  </thead>\n",
              "  <tbody>\n",
              "    <tr>\n",
              "      <th>0</th>\n",
              "      <td>1</td>\n",
              "      <td>1</td>\n",
              "      <td>0.581363</td>\n",
              "      <td>0.779433</td>\n",
              "      <td>16.631452</td>\n",
              "      <td>18.517974</td>\n",
              "      <td>0.010</td>\n",
              "      <td>100</td>\n",
              "      <td>False</td>\n",
              "    </tr>\n",
              "    <tr>\n",
              "      <th>1</th>\n",
              "      <td>1</td>\n",
              "      <td>2</td>\n",
              "      <td>0.409849</td>\n",
              "      <td>0.848767</td>\n",
              "      <td>16.583174</td>\n",
              "      <td>35.221905</td>\n",
              "      <td>0.010</td>\n",
              "      <td>100</td>\n",
              "      <td>False</td>\n",
              "    </tr>\n",
              "    <tr>\n",
              "      <th>2</th>\n",
              "      <td>1</td>\n",
              "      <td>3</td>\n",
              "      <td>0.375367</td>\n",
              "      <td>0.860383</td>\n",
              "      <td>16.704577</td>\n",
              "      <td>52.064644</td>\n",
              "      <td>0.010</td>\n",
              "      <td>100</td>\n",
              "      <td>False</td>\n",
              "    </tr>\n",
              "    <tr>\n",
              "      <th>3</th>\n",
              "      <td>1</td>\n",
              "      <td>4</td>\n",
              "      <td>0.361097</td>\n",
              "      <td>0.865217</td>\n",
              "      <td>16.654043</td>\n",
              "      <td>68.874512</td>\n",
              "      <td>0.010</td>\n",
              "      <td>100</td>\n",
              "      <td>False</td>\n",
              "    </tr>\n",
              "    <tr>\n",
              "      <th>4</th>\n",
              "      <td>1</td>\n",
              "      <td>5</td>\n",
              "      <td>0.349815</td>\n",
              "      <td>0.870167</td>\n",
              "      <td>16.630364</td>\n",
              "      <td>85.661284</td>\n",
              "      <td>0.010</td>\n",
              "      <td>100</td>\n",
              "      <td>False</td>\n",
              "    </tr>\n",
              "    <tr>\n",
              "      <th>5</th>\n",
              "      <td>2</td>\n",
              "      <td>1</td>\n",
              "      <td>1.045336</td>\n",
              "      <td>0.595683</td>\n",
              "      <td>14.879819</td>\n",
              "      <td>15.839304</td>\n",
              "      <td>0.010</td>\n",
              "      <td>1000</td>\n",
              "      <td>False</td>\n",
              "    </tr>\n",
              "    <tr>\n",
              "      <th>6</th>\n",
              "      <td>2</td>\n",
              "      <td>2</td>\n",
              "      <td>0.558461</td>\n",
              "      <td>0.782533</td>\n",
              "      <td>14.681833</td>\n",
              "      <td>30.653673</td>\n",
              "      <td>0.010</td>\n",
              "      <td>1000</td>\n",
              "      <td>False</td>\n",
              "    </tr>\n",
              "    <tr>\n",
              "      <th>7</th>\n",
              "      <td>2</td>\n",
              "      <td>3</td>\n",
              "      <td>0.463485</td>\n",
              "      <td>0.828333</td>\n",
              "      <td>14.761484</td>\n",
              "      <td>45.572459</td>\n",
              "      <td>0.010</td>\n",
              "      <td>1000</td>\n",
              "      <td>False</td>\n",
              "    </tr>\n",
              "    <tr>\n",
              "      <th>8</th>\n",
              "      <td>2</td>\n",
              "      <td>4</td>\n",
              "      <td>0.408093</td>\n",
              "      <td>0.850917</td>\n",
              "      <td>14.845619</td>\n",
              "      <td>60.584049</td>\n",
              "      <td>0.010</td>\n",
              "      <td>1000</td>\n",
              "      <td>False</td>\n",
              "    </tr>\n",
              "    <tr>\n",
              "      <th>9</th>\n",
              "      <td>2</td>\n",
              "      <td>5</td>\n",
              "      <td>0.365515</td>\n",
              "      <td>0.864833</td>\n",
              "      <td>14.629029</td>\n",
              "      <td>75.363292</td>\n",
              "      <td>0.010</td>\n",
              "      <td>1000</td>\n",
              "      <td>False</td>\n",
              "    </tr>\n",
              "    <tr>\n",
              "      <th>10</th>\n",
              "      <td>3</td>\n",
              "      <td>1</td>\n",
              "      <td>0.785331</td>\n",
              "      <td>0.703100</td>\n",
              "      <td>16.856524</td>\n",
              "      <td>17.033595</td>\n",
              "      <td>0.001</td>\n",
              "      <td>100</td>\n",
              "      <td>False</td>\n",
              "    </tr>\n",
              "    <tr>\n",
              "      <th>11</th>\n",
              "      <td>3</td>\n",
              "      <td>2</td>\n",
              "      <td>0.492286</td>\n",
              "      <td>0.818650</td>\n",
              "      <td>17.029407</td>\n",
              "      <td>34.217410</td>\n",
              "      <td>0.001</td>\n",
              "      <td>100</td>\n",
              "      <td>False</td>\n",
              "    </tr>\n",
              "    <tr>\n",
              "      <th>12</th>\n",
              "      <td>3</td>\n",
              "      <td>3</td>\n",
              "      <td>0.420787</td>\n",
              "      <td>0.848900</td>\n",
              "      <td>17.160359</td>\n",
              "      <td>51.516548</td>\n",
              "      <td>0.001</td>\n",
              "      <td>100</td>\n",
              "      <td>False</td>\n",
              "    </tr>\n",
              "    <tr>\n",
              "      <th>13</th>\n",
              "      <td>3</td>\n",
              "      <td>4</td>\n",
              "      <td>0.377107</td>\n",
              "      <td>0.863800</td>\n",
              "      <td>17.029713</td>\n",
              "      <td>68.690503</td>\n",
              "      <td>0.001</td>\n",
              "      <td>100</td>\n",
              "      <td>False</td>\n",
              "    </tr>\n",
              "    <tr>\n",
              "      <th>14</th>\n",
              "      <td>3</td>\n",
              "      <td>5</td>\n",
              "      <td>0.349295</td>\n",
              "      <td>0.873017</td>\n",
              "      <td>17.040396</td>\n",
              "      <td>85.903845</td>\n",
              "      <td>0.001</td>\n",
              "      <td>100</td>\n",
              "      <td>False</td>\n",
              "    </tr>\n",
              "    <tr>\n",
              "      <th>15</th>\n",
              "      <td>4</td>\n",
              "      <td>1</td>\n",
              "      <td>1.540064</td>\n",
              "      <td>0.448917</td>\n",
              "      <td>14.527565</td>\n",
              "      <td>15.472642</td>\n",
              "      <td>0.001</td>\n",
              "      <td>1000</td>\n",
              "      <td>False</td>\n",
              "    </tr>\n",
              "    <tr>\n",
              "      <th>16</th>\n",
              "      <td>4</td>\n",
              "      <td>2</td>\n",
              "      <td>0.749664</td>\n",
              "      <td>0.718833</td>\n",
              "      <td>14.623164</td>\n",
              "      <td>30.253562</td>\n",
              "      <td>0.001</td>\n",
              "      <td>1000</td>\n",
              "      <td>False</td>\n",
              "    </tr>\n",
              "    <tr>\n",
              "      <th>17</th>\n",
              "      <td>4</td>\n",
              "      <td>3</td>\n",
              "      <td>0.644506</td>\n",
              "      <td>0.753250</td>\n",
              "      <td>14.698240</td>\n",
              "      <td>45.098020</td>\n",
              "      <td>0.001</td>\n",
              "      <td>1000</td>\n",
              "      <td>False</td>\n",
              "    </tr>\n",
              "    <tr>\n",
              "      <th>18</th>\n",
              "      <td>4</td>\n",
              "      <td>4</td>\n",
              "      <td>0.594429</td>\n",
              "      <td>0.771883</td>\n",
              "      <td>14.869832</td>\n",
              "      <td>60.119602</td>\n",
              "      <td>0.001</td>\n",
              "      <td>1000</td>\n",
              "      <td>False</td>\n",
              "    </tr>\n",
              "    <tr>\n",
              "      <th>19</th>\n",
              "      <td>4</td>\n",
              "      <td>5</td>\n",
              "      <td>0.561836</td>\n",
              "      <td>0.785067</td>\n",
              "      <td>14.766292</td>\n",
              "      <td>75.042694</td>\n",
              "      <td>0.001</td>\n",
              "      <td>1000</td>\n",
              "      <td>False</td>\n",
              "    </tr>\n",
              "  </tbody>\n",
              "</table>\n",
              "</div>"
            ],
            "text/plain": [
              "    run  epoch      loss  accuracy  ...  run duration     lr  batch_size  shuffle\n",
              "0     1      1  0.581363  0.779433  ...     18.517974  0.010         100    False\n",
              "1     1      2  0.409849  0.848767  ...     35.221905  0.010         100    False\n",
              "2     1      3  0.375367  0.860383  ...     52.064644  0.010         100    False\n",
              "3     1      4  0.361097  0.865217  ...     68.874512  0.010         100    False\n",
              "4     1      5  0.349815  0.870167  ...     85.661284  0.010         100    False\n",
              "5     2      1  1.045336  0.595683  ...     15.839304  0.010        1000    False\n",
              "6     2      2  0.558461  0.782533  ...     30.653673  0.010        1000    False\n",
              "7     2      3  0.463485  0.828333  ...     45.572459  0.010        1000    False\n",
              "8     2      4  0.408093  0.850917  ...     60.584049  0.010        1000    False\n",
              "9     2      5  0.365515  0.864833  ...     75.363292  0.010        1000    False\n",
              "10    3      1  0.785331  0.703100  ...     17.033595  0.001         100    False\n",
              "11    3      2  0.492286  0.818650  ...     34.217410  0.001         100    False\n",
              "12    3      3  0.420787  0.848900  ...     51.516548  0.001         100    False\n",
              "13    3      4  0.377107  0.863800  ...     68.690503  0.001         100    False\n",
              "14    3      5  0.349295  0.873017  ...     85.903845  0.001         100    False\n",
              "15    4      1  1.540064  0.448917  ...     15.472642  0.001        1000    False\n",
              "16    4      2  0.749664  0.718833  ...     30.253562  0.001        1000    False\n",
              "17    4      3  0.644506  0.753250  ...     45.098020  0.001        1000    False\n",
              "18    4      4  0.594429  0.771883  ...     60.119602  0.001        1000    False\n",
              "19    4      5  0.561836  0.785067  ...     75.042694  0.001        1000    False\n",
              "\n",
              "[20 rows x 9 columns]"
            ]
          },
          "metadata": {
            "tags": []
          }
        }
      ]
    },
    {
      "cell_type": "code",
      "metadata": {
        "id": "dbhiMF4AfCv4"
      },
      "source": [
        "# helper function to calculate all predictions of train set\n",
        "def get_all_preds(model, loader):\n",
        "  all_preds = torch.tensor([])\n",
        "  for batch in loader:\n",
        "    images, labels = batch\n",
        "\n",
        "    preds = model(images)\n",
        "    all_preds = torch.cat(\n",
        "        (all_preds, preds),\n",
        "        dim = 0\n",
        "    )\n",
        "  return all_preds"
      ],
      "execution_count": 10,
      "outputs": []
    },
    {
      "cell_type": "code",
      "metadata": {
        "id": "hmOo8Sn2fEPy"
      },
      "source": [
        "# bigger batch size since we only do FP\n",
        "prediction_loader = torch.utils.data.DataLoader(train_set, batch_size=1000)\n",
        "train_preds = get_all_preds(network, prediction_loader)"
      ],
      "execution_count": 11,
      "outputs": []
    },
    {
      "cell_type": "code",
      "metadata": {
        "colab": {
          "base_uri": "https://localhost:8080/"
        },
        "id": "FAEY9GJTfFxx",
        "outputId": "e014d794-b097-4cb1-a288-963b99b661b3"
      },
      "source": [
        "cm = confusion_matrix(train_set.targets, train_preds.argmax(dim=1))\n",
        "cm"
      ],
      "execution_count": 12,
      "outputs": [
        {
          "output_type": "execute_result",
          "data": {
            "text/plain": [
              "array([[4843,   29,  200,  522,   44,   11,  302,    0,   49,    0],\n",
              "       [   3, 5782,    4,  126,   39,    1,   43,    0,    2,    0],\n",
              "       [  44,   10, 4321,   64, 1061,    5,  434,    0,   61,    0],\n",
              "       [ 186,  135,   99, 5095,  269,    8,  196,    0,   12,    0],\n",
              "       [   7,   32,  920,  244, 4565,    2,  199,    0,   30,    1],\n",
              "       [   1,    3,    0,    5,    3, 5562,    1,  292,   31,  102],\n",
              "       [1239,   28, 2226,  312, 1045,    1, 1075,    0,   74,    0],\n",
              "       [   0,    0,    0,    0,    0,  328,    0, 5237,   11,  424],\n",
              "       [  27,   12,  104,   41,   34,   53,  122,   23, 5579,    5],\n",
              "       [   3,    2,    0,    7,    1,   69,    0,  335,    8, 5575]])"
            ]
          },
          "metadata": {
            "tags": []
          },
          "execution_count": 12
        }
      ]
    },
    {
      "cell_type": "code",
      "metadata": {
        "colab": {
          "base_uri": "https://localhost:8080/",
          "height": 312
        },
        "id": "vco6Ntg0fLq7",
        "outputId": "684f0131-97ba-4a6a-da5c-44108976656f"
      },
      "source": [
        "skplt.metrics.plot_confusion_matrix(train_set.targets,train_preds.argmax(dim=1), normalize=True)"
      ],
      "execution_count": 13,
      "outputs": [
        {
          "output_type": "execute_result",
          "data": {
            "text/plain": [
              "<matplotlib.axes._subplots.AxesSubplot at 0x7feb2a0a25d0>"
            ]
          },
          "metadata": {
            "tags": []
          },
          "execution_count": 13
        },
        {
          "output_type": "display_data",
          "data": {
            "image/png": "[encoded data removed]",
            "text/plain": [
              "<Figure size 432x288 with 2 Axes>"
            ]
          },
          "metadata": {
            "tags": [],
            "needs_background": "light"
          }
        }
      ]
    }
  ]
}